{
 "cells": [
  {
   "cell_type": "code",
   "execution_count": 26,
   "metadata": {},
   "outputs": [],
   "source": [
    "class A(object):\n",
    "    def __init__(self):\n",
    "        pass    \n",
    "    def zeroa(self):\n",
    "        print('a-zero')\n",
    "        return self\n",
    "        \n",
    "class B(object):\n",
    "    def __init__(self):\n",
    "        pass    \n",
    "    def zero(self):\n",
    "        print('b-zero')\n",
    "        return self        \n",
    "    def one(self):\n",
    "        print('b-one')\n",
    "        return self        \n",
    "    def two(self):\n",
    "        print('c-two')\n",
    "        return self        \n",
    "                \n",
    "class C(object):\n",
    "    def __init__(self):\n",
    "        pass\n",
    "        super()\n",
    "    def zero(self):\n",
    "        print('c-zero')\n",
    "        return self        \n",
    "    def one(self):\n",
    "        print('c-one')\n",
    "        return self        \n",
    "    def two(self):\n",
    "        print('d-two')  \n",
    "        return self        "
   ]
  },
  {
   "cell_type": "code",
   "execution_count": 29,
   "metadata": {},
   "outputs": [
    {
     "name": "stdout",
     "output_type": "stream",
     "text": [
      "b-zero\n"
     ]
    }
   ],
   "source": [
    "class D(A, B, C):\n",
    "    def __init__(self):\n",
    "        pass\n",
    "        \n",
    "    def two(self):\n",
    "        print('d-two')\n",
    "\n",
    "d = D().zero()"
   ]
  },
  {
   "cell_type": "code",
   "execution_count": 31,
   "metadata": {},
   "outputs": [
    {
     "data": {
      "text/plain": [
       "(__main__.A, __main__.B, __main__.C)"
      ]
     },
     "execution_count": 31,
     "metadata": {},
     "output_type": "execute_result"
    }
   ],
   "source": [
    "D.__bases__"
   ]
  },
  {
   "cell_type": "code",
   "execution_count": null,
   "metadata": {
    "collapsed": true
   },
   "outputs": [],
   "source": [
    "D.__"
   ]
  }
 ],
 "metadata": {
  "kernelspec": {
   "display_name": "Python 3",
   "language": "python",
   "name": "python3"
  },
  "language_info": {
   "codemirror_mode": {
    "name": "ipython",
    "version": 3
   },
   "file_extension": ".py",
   "mimetype": "text/x-python",
   "name": "python",
   "nbconvert_exporter": "python",
   "pygments_lexer": "ipython3",
   "version": "3.5.3"
  },
  "toc": {
   "colors": {
    "hover_highlight": "#DAA520",
    "navigate_num": "#000000",
    "navigate_text": "#333333",
    "running_highlight": "#FF0000",
    "selected_highlight": "#FFD700",
    "sidebar_border": "#EEEEEE",
    "wrapper_background": "#FFFFFF"
   },
   "moveMenuLeft": true,
   "nav_menu": {
    "height": "3px",
    "width": "253px"
   },
   "navigate_menu": true,
   "number_sections": true,
   "sideBar": true,
   "threshold": 4,
   "toc_cell": false,
   "toc_section_display": "block",
   "toc_window_display": false,
   "widenNotebook": false
  }
 },
 "nbformat": 4,
 "nbformat_minor": 2
}
