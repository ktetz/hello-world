{
 "cells": [
  {
   "cell_type": "code",
   "execution_count": 26,
   "metadata": {},
   "outputs": [],
   "source": [
    "class A(object):\n",
    "    def __init__(self):\n",
    "        pass    \n",
    "    def zeroa(self):\n",
    "        print('a-zero')\n",
    "        return self\n",
    "        \n",
    "class B(object):\n",
    "    def __init__(self):\n",
    "        pass    \n",
    "    def zero(self):\n",
    "        print('b-zero')\n",
    "        return self        \n",
    "    def one(self):\n",
    "        print('b-one')\n",
    "        return self        \n",
    "    def two(self):\n",
    "        print('c-two')\n",
    "        return self        \n",
    "                \n",
    "class C(object):\n",
    "    def __init__(self):\n",
    "        pass\n",
    "        super()\n",
    "    def zero(self):\n",
    "        print('c-zero')\n",
    "        return self        \n",
    "    def one(self):\n",
    "        print('c-one')\n",
    "        return self        \n",
    "    def two(self):\n",
    "        print('d-two')  \n",
    "        return self        "
   ]
  },
  {
   "cell_type": "code",
   "execution_count": 29,
   "metadata": {},
   "outputs": [
    {
     "name": "stdout",
     "output_type": "stream",
     "text": [
      "b-zero\n"
     ]
    }
   ],
   "source": [
    "class D(A, B, C):\n",
    "    def __init__(self):\n",
    "        pass\n",
    "        \n",
    "    def two(self):\n",
    "        print('d-two')\n",
    "\n",
    "d = D().zero()"
   ]
  },
  {
   "cell_type": "code",
   "execution_count": 31,
   "metadata": {},
   "outputs": [
    {
     "data": {
      "text/plain": [
       "(__main__.A, __main__.B, __main__.C)"
      ]
     },
     "execution_count": 31,
     "metadata": {},
     "output_type": "execute_result"
    }
   ],
   "source": [
    "D.__bases__"
   ]
  },
  {
   "cell_type": "code",
   "execution_count": 32,
   "metadata": {},
   "outputs": [
    {
     "name": "stdout",
     "output_type": "stream",
     "text": [
      "I am a D\n"
     ]
    }
   ],
   "source": [
    "class A:\n",
    "    def who_am_i(self):\n",
    "        print(\"I am a A\")\n",
    "\n",
    "class B(A):\n",
    "    def who_am_i(self):\n",
    "        print(\"I am a B\")\n",
    "\n",
    "class C(A):\n",
    "    def who_am_i(self):\n",
    "        print(\"I am a C\")\n",
    "\n",
    "class D(B,C):\n",
    "    def who_am_i(self):\n",
    "        print(\"I am a D\")\n",
    "\n",
    "d1 = D()\n",
    "d1.who_am_i()"
   ]
  },
  {
   "cell_type": "markdown",
   "metadata": {},
   "source": [
    "[link](https://makina-corpus.com/blog/metier/2014/python-tutorial-understanding-python-mro-class-search-path)"
   ]
  },
  {
   "cell_type": "code",
   "execution_count": 41,
   "metadata": {},
   "outputs": [
    {
     "name": "stdout",
     "output_type": "stream",
     "text": [
      "A says hello\n",
      "D says hello\n"
     ]
    }
   ],
   "source": [
    "class A(object):\n",
    "    def say_hello(self):\n",
    "        print ('A says hello')\n",
    "\n",
    "class B():\n",
    "    def say_hello(self):\n",
    "        super(B, self).say_hello()\n",
    "        print ('B says hello')\n",
    "\n",
    "class C():\n",
    "    def say_hello(self):\n",
    "        super(C, self).say_hello()\n",
    "        print ('C says hello')\n",
    "\n",
    "class D(A, B):\n",
    "    def say_hello(self):\n",
    "        super(D, self).say_hello()\n",
    "        print ('D says hello')\n",
    "\n",
    "DD = D()\n",
    "DD.say_hello() "
   ]
  },
  {
   "cell_type": "code",
   "execution_count": 42,
   "metadata": {},
   "outputs": [
    {
     "ename": "TypeError",
     "evalue": "Cannot create a consistent method resolution\norder (MRO) for bases X, Y",
     "output_type": "error",
     "traceback": [
      "\u001b[0;31m---------------------------------------------------------------------------\u001b[0m",
      "\u001b[0;31mTypeError\u001b[0m                                 Traceback (most recent call last)",
      "\u001b[0;32m<ipython-input-42-8a455716e187>\u001b[0m in \u001b[0;36m<module>\u001b[0;34m()\u001b[0m\n\u001b[1;32m     15\u001b[0m          \u001b[0mprint\u001b[0m\u001b[0;34m(\u001b[0m\u001b[0;34m\"I am a B\"\u001b[0m\u001b[0;34m)\u001b[0m\u001b[0;34m\u001b[0m\u001b[0m\n\u001b[1;32m     16\u001b[0m \u001b[0;34m\u001b[0m\u001b[0m\n\u001b[0;32m---> 17\u001b[0;31m \u001b[0;32mclass\u001b[0m \u001b[0mF\u001b[0m \u001b[0;34m(\u001b[0m\u001b[0mA\u001b[0m\u001b[0;34m,\u001b[0m \u001b[0mB\u001b[0m\u001b[0;34m)\u001b[0m\u001b[0;34m:\u001b[0m\u001b[0;34m\u001b[0m\u001b[0m\n\u001b[0m\u001b[1;32m     18\u001b[0m     \u001b[0;32mdef\u001b[0m \u001b[0mwho_am_i\u001b[0m\u001b[0;34m(\u001b[0m\u001b[0mself\u001b[0m\u001b[0;34m)\u001b[0m\u001b[0;34m:\u001b[0m\u001b[0;34m\u001b[0m\u001b[0m\n\u001b[1;32m     19\u001b[0m         \u001b[0mprint\u001b[0m\u001b[0;34m(\u001b[0m\u001b[0;34m\"I am a F\"\u001b[0m\u001b[0;34m)\u001b[0m\u001b[0;34m\u001b[0m\u001b[0m\n",
      "\u001b[0;31mTypeError\u001b[0m: Cannot create a consistent method resolution\norder (MRO) for bases X, Y"
     ]
    }
   ],
   "source": [
    "class X():\n",
    "    def who_am_i(self):\n",
    "        print(\"I am a X\")\n",
    "    \n",
    "class Y():\n",
    "    def who_am_i(self):\n",
    "        print(\"I am a Y\")\n",
    "    \n",
    "class A(X, Y):\n",
    "    def who_am_i(self):\n",
    "        print(\"I am a A\")\n",
    "    \n",
    "class B(Y, X):\n",
    "     def who_am_i(self):\n",
    "         print(\"I am a B\")\n",
    "\n",
    "class F (A, B):\n",
    "    def who_am_i(self):\n",
    "        print(\"I am a F\")"
   ]
  },
  {
   "cell_type": "code",
   "execution_count": null,
   "metadata": {
    "collapsed": true
   },
   "outputs": [],
   "source": []
  }
 ],
 "metadata": {
  "kernelspec": {
   "display_name": "Python 3",
   "language": "python",
   "name": "python3"
  },
  "language_info": {
   "codemirror_mode": {
    "name": "ipython",
    "version": 3
   },
   "file_extension": ".py",
   "mimetype": "text/x-python",
   "name": "python",
   "nbconvert_exporter": "python",
   "pygments_lexer": "ipython3",
   "version": "3.5.3"
  },
  "toc": {
   "colors": {
    "hover_highlight": "#DAA520",
    "navigate_num": "#000000",
    "navigate_text": "#333333",
    "running_highlight": "#FF0000",
    "selected_highlight": "#FFD700",
    "sidebar_border": "#EEEEEE",
    "wrapper_background": "#FFFFFF"
   },
   "moveMenuLeft": true,
   "nav_menu": {
    "height": "3px",
    "width": "253px"
   },
   "navigate_menu": true,
   "number_sections": true,
   "sideBar": true,
   "threshold": 4,
   "toc_cell": false,
   "toc_section_display": "block",
   "toc_window_display": false,
   "widenNotebook": false
  }
 },
 "nbformat": 4,
 "nbformat_minor": 2
}
